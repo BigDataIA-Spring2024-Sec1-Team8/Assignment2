{
 "cells": [
  {
   "cell_type": "code",
   "execution_count": 204,
   "metadata": {},
   "outputs": [],
   "source": [
    "from lxml import etree\n",
    "import os\n",
    "def extract(path, pdf_content_list,bucket_links):\n",
    "    xml_file_path = os.path.abspath(path)\n",
    "\n",
    "    if os.path.exists(xml_file_path):\n",
    "        tree = etree.parse(xml_file_path)\n",
    "        root = tree.getroot()\n",
    "        namespaces = {\n",
    "            'tei': 'http://www.tei-c.org/ns/1.0',\n",
    "            'xlink': 'http://www.w3.org/1999/xlink'\n",
    "        }\n",
    "\n",
    "        def get_first_item(xpath_result):\n",
    "            if xpath_result:\n",
    "                xpath_result[0] = xpath_result[0].replace('\\n', '').replace('\\t','')\n",
    "                return f\"{xpath_result[0]}\"  \n",
    "            else:\n",
    "                return \"No Data\"\n",
    "\n",
    "        # Extract metadata using XPath expressions\n",
    "        metadata_dict = {\n",
    "            \"Title\": get_first_item(root.xpath('//tei:titleStmt/tei:title[@level=\"a\" and @type=\"main\"]/text()', namespaces=namespaces)),\n",
    "            \"Publisher\": get_first_item(root.xpath('//tei:publicationStmt/tei:publisher/text()', namespaces=namespaces)),\n",
    "            \"AvailabilityStatus\": get_first_item(root.xpath('//tei:availability/@status', namespaces=namespaces)),\n",
    "            \"Analytic\": get_first_item(root.xpath('//tei:analytic/text()', namespaces=namespaces)),\n",
    "            \"ImprintedDate\": get_first_item(root.xpath('//tei:imprint/tei:date/text()', namespaces=namespaces)),\n",
    "            \"AppInfoDescription\": get_first_item(root.xpath('//tei:application/tei:desc/text()', namespaces=namespaces)),\n",
    "            \"Abstract\": get_first_item(root.xpath('//tei:profileDesc/tei:abstract/tei:p/text()', namespaces=namespaces)),\n",
    "        }\n",
    "        metadata_dict['s3_bucket_link'] = bucket_links[path]\n",
    "\n",
    "        pdf_content_list.append(metadata_dict)\n",
    "    else:\n",
    "        print(f\"The file {xml_file_path} does not exist.\")\n",
    "\n"
   ]
  },
  {
   "cell_type": "code",
   "execution_count": 205,
   "metadata": {},
   "outputs": [],
   "source": [
    "paths = ['./resources/metadata/Level1_combined.grobid.tei.xml',\n",
    "         './resources/metadata/Level2_combined.grobid.tei.xml',\n",
    "         './resources/metadata/Level3_combined.grobid.tei.xml',\n",
    "        ]\n",
    "bucket_links = {\n",
    "    \"./resources/metadata/Level1_combined.grobid.tei.xml\" : \"s3://cfainstitute-learning-outcomes-raw/grobid/Grobid_RR_2024_Level1_combined.txt\",\n",
    "    \"./resources/metadata/Level2_combined.grobid.tei.xml\": \"s3://cfainstitute-learning-outcomes-raw/grobid/Grobid_RR_2024_Level2_combined.txt\",\n",
    "    \"./resources/metadata/Level3_combined.grobid.tei.xml\": \"s3://cfainstitute-learning-outcomes-raw/grobid/Grobid_RR_2024_Level3_combined.txt\"\n",
    "}\n",
    "pdf_content_list=[]\n",
    "for path in paths:\n",
    "        extract(path,pdf_content_list,bucket_links)"
   ]
  },
  {
   "cell_type": "code",
   "execution_count": 206,
   "metadata": {},
   "outputs": [],
   "source": [
    "import pandas as pd\n",
    "\n",
    "md = pd.DataFrame(pdf_content_list)"
   ]
  },
  {
   "cell_type": "code",
   "execution_count": null,
   "metadata": {},
   "outputs": [],
   "source": []
  },
  {
   "cell_type": "code",
   "execution_count": 207,
   "metadata": {},
   "outputs": [
    {
     "data": {
      "text/plain": [
       "True"
      ]
     },
     "execution_count": 207,
     "metadata": {},
     "output_type": "execute_result"
    }
   ],
   "source": [
    "import os\n",
    "from dotenv import load_dotenv\n",
    "from sqlalchemy import create_engine\n",
    "\n",
    "load_dotenv()"
   ]
  },
  {
   "cell_type": "code",
   "execution_count": 208,
   "metadata": {},
   "outputs": [],
   "source": [
    "snowflake_account = os.getenv('snowflake_account')\n",
    "snowflake_user = os.getenv('snowflake_user')\n",
    "snowflake_password = os.getenv('snowflake_password')\n",
    "snowflake_warehouse = os.getenv('snowflake_warehouse')\n",
    "snowflake_schema = os.getenv('snowflake_schema')\n",
    "snowflake_database = 'your_database'\n",
    "\n",
    "engine = create_engine(\n",
    "    'snowflake://{user}:{password}@{account_identifier}/'.format(\n",
    "        user=snowflake_user,\n",
    "        password=snowflake_password,\n",
    "        account_identifier=snowflake_account,\n",
    "    )\n",
    ")\n",
    "connection = engine.connect()\n"
   ]
  },
  {
   "cell_type": "code",
   "execution_count": 209,
   "metadata": {},
   "outputs": [
    {
     "data": {
      "text/plain": [
       "<sqlalchemy.engine.cursor.LegacyCursorResult at 0x135e78050>"
      ]
     },
     "execution_count": 209,
     "metadata": {},
     "output_type": "execute_result"
    }
   ],
   "source": [
    "target_table = 'metadata_grobid'\n",
    "\n",
    "target_database = 'MetadataDB'\n",
    "\n",
    "\n",
    "create_database_query = f\"CREATE DATABASE IF NOT EXISTS {target_database}\"\n",
    "\n",
    "connection.execute(create_database_query)\n",
    "use_database_query = f\"USE DATABASE {target_database}\"\n",
    "connection.execute(use_database_query)\n",
    "connection.execute(\"USE WAREHOUSE TEST\")\n"
   ]
  },
  {
   "cell_type": "code",
   "execution_count": 210,
   "metadata": {},
   "outputs": [
    {
     "data": {
      "text/plain": [
       "<sqlalchemy.engine.cursor.LegacyCursorResult at 0x135e9e3d0>"
      ]
     },
     "execution_count": 210,
     "metadata": {},
     "output_type": "execute_result"
    }
   ],
   "source": [
    "headers = md.columns.tolist()\n",
    "columns_definition = ', '.join([f\"{header} STRING\" for header in headers])\n",
    "connection.execute(f\"\"\"\n",
    "    CREATE TABLE IF NOT EXISTS metadata_grobid (\n",
    "        {columns_definition}\n",
    "    )\n",
    "    \"\"\")"
   ]
  },
  {
   "cell_type": "code",
   "execution_count": 211,
   "metadata": {},
   "outputs": [],
   "source": [
    "md.to_csv('./resources/metadata/metadata_grobid.csv', index=False)"
   ]
  },
  {
   "cell_type": "code",
   "execution_count": 212,
   "metadata": {},
   "outputs": [
    {
     "data": {
      "text/plain": [
       "<sqlalchemy.engine.cursor.LegacyCursorResult at 0x136c5f650>"
      ]
     },
     "execution_count": 212,
     "metadata": {},
     "output_type": "execute_result"
    }
   ],
   "source": [
    "connection.execute(f\"TRUNCATE TABLE metadata_grobid\")\n",
    "\n",
    "connection.execute(f\"PUT file://resources/metadata/metadata_grobid.csv @%metadata_grobid\")\n"
   ]
  },
  {
   "cell_type": "code",
   "execution_count": 213,
   "metadata": {},
   "outputs": [
    {
     "data": {
      "text/plain": [
       "<sqlalchemy.engine.cursor.LegacyCursorResult at 0x136b84c10>"
      ]
     },
     "execution_count": 213,
     "metadata": {},
     "output_type": "execute_result"
    }
   ],
   "source": [
    "connection.execute(f\"COPY INTO metadata_grobid ON_ERROR=CONTINUE FILE_FORMAT = (FIELD_OPTIONALLY_ENCLOSED_BY = '\\\"' SKIP_HEADER=1 PARSE_HEADER = FALSE)\")"
   ]
  }
 ],
 "metadata": {
  "kernelspec": {
   "display_name": "Python 3",
   "language": "python",
   "name": "python3"
  },
  "language_info": {
   "codemirror_mode": {
    "name": "ipython",
    "version": 3
   },
   "file_extension": ".py",
   "mimetype": "text/x-python",
   "name": "python",
   "nbconvert_exporter": "python",
   "pygments_lexer": "ipython3",
   "version": "3.11.2"
  }
 },
 "nbformat": 4,
 "nbformat_minor": 2
}
