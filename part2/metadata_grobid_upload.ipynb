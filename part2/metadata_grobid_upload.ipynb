{
 "cells": [
  {
   "cell_type": "code",
   "execution_count": 1,
   "metadata": {},
   "outputs": [
    {
     "name": "stderr",
     "output_type": "stream",
     "text": [
      "/var/folders/6q/q891flcj0r375hpjwrt2wtbm0000gn/T/ipykernel_17912/3509839100.py:4: DeprecationWarning: \n",
      "Pyarrow will become a required dependency of pandas in the next major release of pandas (pandas 3.0),\n",
      "(to allow more performant data types, such as the Arrow string type, and better interoperability with other libraries)\n",
      "but was not found to be installed on your system.\n",
      "If this would cause problems for you,\n",
      "please provide us feedback at https://github.com/pandas-dev/pandas/issues/54466\n",
      "        \n",
      "  import pandas as pd\n"
     ]
    }
   ],
   "source": [
    "import os\n",
    "from dotenv import load_dotenv\n",
    "from sqlalchemy import create_engine\n",
    "import pandas as pd\n",
    "\n",
    "load_dotenv()\n",
    "from lxml import etree\n",
    "import os"
   ]
  },
  {
   "cell_type": "code",
   "execution_count": 2,
   "metadata": {},
   "outputs": [],
   "source": [
    "\n",
    "def extract(path, pdf_content_list,bucket_links):\n",
    "    xml_file_path = os.path.abspath(path)\n",
    "\n",
    "    if os.path.exists(xml_file_path):\n",
    "        tree = etree.parse(xml_file_path)\n",
    "        root = tree.getroot()\n",
    "        namespaces = {\n",
    "            'tei': 'http://www.tei-c.org/ns/1.0',\n",
    "            'xlink': 'http://www.w3.org/1999/xlink'\n",
    "        }\n",
    "\n",
    "        def get_first_item(xpath_result):\n",
    "            if xpath_result:\n",
    "                xpath_result[0] = xpath_result[0].replace('\\n', '').replace('\\t','')\n",
    "                return f\"{xpath_result[0]}\"  \n",
    "            else:\n",
    "                return \"No Data\"\n",
    "\n",
    "        # Extract metadata using XPath expressions\n",
    "        metadata_dict = {\n",
    "            \"Title\": get_first_item(root.xpath('//tei:titleStmt/tei:title[@level=\"a\" and @type=\"main\"]/text()', namespaces=namespaces)),\n",
    "            \"Publisher\": get_first_item(root.xpath('//tei:publicationStmt/tei:publisher/text()', namespaces=namespaces)),\n",
    "            \"AvailabilityStatus\": get_first_item(root.xpath('//tei:availability/@status', namespaces=namespaces)),\n",
    "            \"Analytic\": get_first_item(root.xpath('//tei:analytic/text()', namespaces=namespaces)),\n",
    "            \"ImprintedDate\": get_first_item(root.xpath('//tei:imprint/tei:date/text()', namespaces=namespaces)),\n",
    "            \"AppInfoDescription\": get_first_item(root.xpath('//tei:application/tei:desc/text()', namespaces=namespaces)),\n",
    "            \"Abstract\": get_first_item(root.xpath('//tei:profileDesc/tei:abstract/tei:p/text()', namespaces=namespaces)),\n",
    "        }\n",
    "        metadata_dict['s3_bucket_link'] = bucket_links[path]\n",
    "\n",
    "        pdf_content_list.append(metadata_dict)\n",
    "    else:\n",
    "        print(f\"The file {xml_file_path} does not exist.\")\n",
    "\n"
   ]
  },
  {
   "cell_type": "code",
   "execution_count": 3,
   "metadata": {},
   "outputs": [],
   "source": [
    "paths = ['./resources/metadata/Level1_combined.grobid.tei.xml',\n",
    "         './resources/metadata/Level2_combined.grobid.tei.xml',\n",
    "         './resources/metadata/Level3_combined.grobid.tei.xml',\n",
    "        ]\n",
    "bucket_links = {\n",
    "    \"./resources/metadata/Level1_combined.grobid.tei.xml\" : \"s3://cfainstitute-learning-outcomes-raw/grobid/Grobid_RR_2024_Level1_combined.txt\",\n",
    "    \"./resources/metadata/Level2_combined.grobid.tei.xml\": \"s3://cfainstitute-learning-outcomes-raw/grobid/Grobid_RR_2024_Level2_combined.txt\",\n",
    "    \"./resources/metadata/Level3_combined.grobid.tei.xml\": \"s3://cfainstitute-learning-outcomes-raw/grobid/Grobid_RR_2024_Level3_combined.txt\"\n",
    "}\n",
    "pdf_content_list=[]\n",
    "for path in paths:\n",
    "        extract(path,pdf_content_list,bucket_links)"
   ]
  },
  {
   "cell_type": "code",
   "execution_count": 4,
   "metadata": {},
   "outputs": [],
   "source": [
    "\n",
    "md = pd.DataFrame(pdf_content_list)"
   ]
  },
  {
   "cell_type": "code",
   "execution_count": 5,
   "metadata": {},
   "outputs": [],
   "source": [
    "snowflake_account = os.getenv('snowflake_account')\n",
    "snowflake_user = os.getenv('snowflake_user')\n",
    "snowflake_password = os.getenv('snowflake_password')\n",
    "snowflake_warehouse = os.getenv('snowflake_warehouse')\n",
    "snowflake_schema = os.getenv('snowflake_schema')\n",
    "snowflake_database = 'your_database'\n",
    "\n",
    "engine = create_engine(\n",
    "    'snowflake://{user}:{password}@{account_identifier}/'.format(\n",
    "        user=snowflake_user,\n",
    "        password=snowflake_password,\n",
    "        account_identifier=snowflake_account,\n",
    "    )\n",
    ")\n",
    "connection = engine.connect()\n"
   ]
  },
  {
   "cell_type": "code",
   "execution_count": 6,
   "metadata": {},
   "outputs": [
    {
     "name": "stderr",
     "output_type": "stream",
     "text": [
      "/var/folders/6q/q891flcj0r375hpjwrt2wtbm0000gn/T/ipykernel_17912/3871641593.py:8: RemovedIn20Warning: Deprecated API features detected! These feature(s) are not compatible with SQLAlchemy 2.0. To prevent incompatible upgrades prior to updating applications, ensure requirements files are pinned to \"sqlalchemy<2.0\". Set environment variable SQLALCHEMY_WARN_20=1 to show all deprecation warnings.  Set environment variable SQLALCHEMY_SILENCE_UBER_WARNING=1 to silence this message. (Background on SQLAlchemy 2.0 at: https://sqlalche.me/e/b8d9)\n",
      "  connection.execute(create_database_query)\n"
     ]
    },
    {
     "data": {
      "text/plain": [
       "<sqlalchemy.engine.cursor.LegacyCursorResult at 0x12f4ab650>"
      ]
     },
     "execution_count": 6,
     "metadata": {},
     "output_type": "execute_result"
    }
   ],
   "source": [
    "target_table = 'metadata_grobid'\n",
    "\n",
    "target_database = 'MetadataDB'\n",
    "\n",
    "\n",
    "create_database_query = f\"CREATE DATABASE IF NOT EXISTS {target_database}\"\n",
    "\n",
    "connection.execute(create_database_query)\n",
    "use_database_query = f\"USE DATABASE {target_database}\"\n",
    "connection.execute(use_database_query)\n",
    "connection.execute(\"USE WAREHOUSE TEST\")\n"
   ]
  },
  {
   "cell_type": "code",
   "execution_count": 7,
   "metadata": {},
   "outputs": [
    {
     "data": {
      "text/plain": [
       "<sqlalchemy.engine.cursor.LegacyCursorResult at 0x12f4b0e90>"
      ]
     },
     "execution_count": 7,
     "metadata": {},
     "output_type": "execute_result"
    }
   ],
   "source": [
    "headers = md.columns.tolist()\n",
    "columns_definition = ', '.join([f\"{header} STRING\" for header in headers])\n",
    "connection.execute(f\"\"\"\n",
    "    CREATE TABLE IF NOT EXISTS {target_table} (\n",
    "        {columns_definition}\n",
    "    )\n",
    "    \"\"\")"
   ]
  },
  {
   "cell_type": "code",
   "execution_count": 8,
   "metadata": {},
   "outputs": [],
   "source": [
    "md.to_csv('./resources/metadata/metadata_grobid.csv', index=False)"
   ]
  },
  {
   "cell_type": "code",
   "execution_count": 9,
   "metadata": {},
   "outputs": [
    {
     "data": {
      "text/plain": [
       "<sqlalchemy.engine.cursor.LegacyCursorResult at 0x12f4c8dd0>"
      ]
     },
     "execution_count": 9,
     "metadata": {},
     "output_type": "execute_result"
    }
   ],
   "source": [
    "connection.execute(f\"TRUNCATE TABLE {target_table}\")\n",
    "\n",
    "connection.execute(f\"PUT file://resources/metadata/metadata_grobid.csv @%{target_table}\")\n"
   ]
  },
  {
   "cell_type": "code",
   "execution_count": 10,
   "metadata": {},
   "outputs": [
    {
     "data": {
      "text/plain": [
       "<sqlalchemy.engine.cursor.LegacyCursorResult at 0x12f08ec90>"
      ]
     },
     "execution_count": 10,
     "metadata": {},
     "output_type": "execute_result"
    }
   ],
   "source": [
    "connection.execute(f\"COPY INTO {target_table} ON_ERROR=CONTINUE FILE_FORMAT = (FIELD_OPTIONALLY_ENCLOSED_BY = '\\\"' SKIP_HEADER=1 PARSE_HEADER = FALSE)\")"
   ]
  }
 ],
 "metadata": {
  "kernelspec": {
   "display_name": "Python 3",
   "language": "python",
   "name": "python3"
  },
  "language_info": {
   "codemirror_mode": {
    "name": "ipython",
    "version": 3
   },
   "file_extension": ".py",
   "mimetype": "text/x-python",
   "name": "python",
   "nbconvert_exporter": "python",
   "pygments_lexer": "ipython3",
   "version": "3.11.2"
  }
 },
 "nbformat": 4,
 "nbformat_minor": 2
}
