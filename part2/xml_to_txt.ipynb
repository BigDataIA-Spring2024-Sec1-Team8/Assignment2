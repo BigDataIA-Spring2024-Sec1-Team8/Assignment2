{
 "cells": [
  {
   "cell_type": "code",
   "execution_count": 2,
   "metadata": {},
   "outputs": [
    {
     "name": "stdout",
     "output_type": "stream",
     "text": [
      "Defaulting to user installation because normal site-packages is not writeable\n",
      "Collecting lxml\n",
      "  Downloading lxml-5.1.0-cp39-cp39-macosx_11_0_arm64.whl (4.5 MB)\n",
      "\u001b[K     |████████████████████████████████| 4.5 MB 3.3 MB/s eta 0:00:01\n",
      "\u001b[?25hInstalling collected packages: lxml\n",
      "Successfully installed lxml-5.1.0\n",
      "\u001b[33mWARNING: You are using pip version 21.2.4; however, version 24.0 is available.\n",
      "You should consider upgrading via the '/Library/Developer/CommandLineTools/usr/bin/python3 -m pip install --upgrade pip' command.\u001b[0m\n",
      "Note: you may need to restart the kernel to use updated packages.\n"
     ]
    }
   ],
   "source": [
    "pip install lxml"
   ]
  },
  {
   "cell_type": "code",
   "execution_count": 3,
   "metadata": {},
   "outputs": [],
   "source": [
    "from lxml import etree\n",
    "\n",
    "# Function to extract text from TEI XML content\n",
    "def extract_text_from_tei(tei_xml):\n",
    "    # Parse XML content into an ElementTree object\n",
    "    root =  etree.fromstring(tei_xml.encode('utf-8'))\n",
    "    \n",
    "    # Namespace mapping for TEI elements\n",
    "    ns = {'tei': 'http://www.tei-c.org/ns/1.0'}\n",
    "    # XPath to select relevant text elements within TEI structure\n",
    "    text_elements = root.xpath(\"//tei:div//tei:p | //tei:div//tei:head\", namespaces=ns)\n",
    "    \n",
    "    extracted_text = \"\"\n",
    "    # Iterate through selected elements and concatenate their text\n",
    "    for element in text_elements:\n",
    "        extracted_text += (element.text or \"\") + \"\\n\"\n",
    "\n",
    "    # Return concatenated text, stripping any trailing whitespace\n",
    "    return extracted_text.strip()\n"
   ]
  },
  {
   "cell_type": "code",
   "execution_count": 4,
   "metadata": {},
   "outputs": [],
   "source": [
    "# Function to read XML content from a file\n",
    "def read_xml_from_file(file_path):\n",
    "    # Open and read file content\n",
    "    with open(file_path, 'r', encoding='utf-8') as file:\n",
    "        tei_xml = file.read()\n",
    "    return tei_xml"
   ]
  },
  {
   "cell_type": "code",
   "execution_count": 5,
   "metadata": {},
   "outputs": [],
   "source": [
    "import os"
   ]
  },
  {
   "cell_type": "code",
   "execution_count": 8,
   "metadata": {},
   "outputs": [
    {
     "ename": "FileNotFoundError",
     "evalue": "[Errno 2] No such file or directory: './resources/grobid/Level1_combined.grobid.tei.xml'",
     "output_type": "error",
     "traceback": [
      "\u001b[0;31m---------------------------------------------------------------------------\u001b[0m",
      "\u001b[0;31mFileNotFoundError\u001b[0m                         Traceback (most recent call last)",
      "Cell \u001b[0;32mIn[8], line 7\u001b[0m\n\u001b[1;32m      4\u001b[0m \u001b[39m# Loop through each XML file path\u001b[39;00m\n\u001b[1;32m      5\u001b[0m \u001b[39mfor\u001b[39;00m path \u001b[39min\u001b[39;00m xml_paths:\n\u001b[1;32m      6\u001b[0m     \u001b[39m# Read TEI XML content from file\u001b[39;00m\n\u001b[0;32m----> 7\u001b[0m     tei_xml_content \u001b[39m=\u001b[39m read_xml_from_file(path)\n\u001b[1;32m      9\u001b[0m     \u001b[39m# Extract text from TEI XML content\u001b[39;00m\n\u001b[1;32m     10\u001b[0m     extracted_text \u001b[39m=\u001b[39m extract_text_from_tei(tei_xml_content)\n",
      "Cell \u001b[0;32mIn[4], line 4\u001b[0m, in \u001b[0;36mread_xml_from_file\u001b[0;34m(file_path)\u001b[0m\n\u001b[1;32m      2\u001b[0m \u001b[39mdef\u001b[39;00m \u001b[39mread_xml_from_file\u001b[39m(file_path):\n\u001b[1;32m      3\u001b[0m     \u001b[39m# Open and read file content\u001b[39;00m\n\u001b[0;32m----> 4\u001b[0m     \u001b[39mwith\u001b[39;00m \u001b[39mopen\u001b[39;49m(file_path, \u001b[39m'\u001b[39;49m\u001b[39mr\u001b[39;49m\u001b[39m'\u001b[39;49m, encoding\u001b[39m=\u001b[39;49m\u001b[39m'\u001b[39;49m\u001b[39mutf-8\u001b[39;49m\u001b[39m'\u001b[39;49m) \u001b[39mas\u001b[39;00m file:\n\u001b[1;32m      5\u001b[0m         tei_xml \u001b[39m=\u001b[39m file\u001b[39m.\u001b[39mread()\n\u001b[1;32m      6\u001b[0m     \u001b[39mreturn\u001b[39;00m tei_xml\n",
      "File \u001b[0;32m~/Library/Python/3.9/lib/python/site-packages/IPython/core/interactiveshell.py:282\u001b[0m, in \u001b[0;36m_modified_open\u001b[0;34m(file, *args, **kwargs)\u001b[0m\n\u001b[1;32m    275\u001b[0m \u001b[39mif\u001b[39;00m file \u001b[39min\u001b[39;00m {\u001b[39m0\u001b[39m, \u001b[39m1\u001b[39m, \u001b[39m2\u001b[39m}:\n\u001b[1;32m    276\u001b[0m     \u001b[39mraise\u001b[39;00m \u001b[39mValueError\u001b[39;00m(\n\u001b[1;32m    277\u001b[0m         \u001b[39mf\u001b[39m\u001b[39m\"\u001b[39m\u001b[39mIPython won\u001b[39m\u001b[39m'\u001b[39m\u001b[39mt let you open fd=\u001b[39m\u001b[39m{\u001b[39;00mfile\u001b[39m}\u001b[39;00m\u001b[39m by default \u001b[39m\u001b[39m\"\u001b[39m\n\u001b[1;32m    278\u001b[0m         \u001b[39m\"\u001b[39m\u001b[39mas it is likely to crash IPython. If you know what you are doing, \u001b[39m\u001b[39m\"\u001b[39m\n\u001b[1;32m    279\u001b[0m         \u001b[39m\"\u001b[39m\u001b[39myou can use builtins\u001b[39m\u001b[39m'\u001b[39m\u001b[39m open.\u001b[39m\u001b[39m\"\u001b[39m\n\u001b[1;32m    280\u001b[0m     )\n\u001b[0;32m--> 282\u001b[0m \u001b[39mreturn\u001b[39;00m io_open(file, \u001b[39m*\u001b[39;49margs, \u001b[39m*\u001b[39;49m\u001b[39m*\u001b[39;49mkwargs)\n",
      "\u001b[0;31mFileNotFoundError\u001b[0m: [Errno 2] No such file or directory: './resources/grobid/Level1_combined.grobid.tei.xml'"
     ]
    }
   ],
   "source": [
    "xml_paths = ['./resources/grobid/xml/Level1_combined.grobid.tei.xml', \n",
    "             './resources/grobid/xml/Level2_combined.grobid.tei.xml', \n",
    "             './resources/grobid/xml/Level3_combined.grobid.tei.xml']\n",
    "# Loop through each XML file path\n",
    "for path in xml_paths:\n",
    "    # Read TEI XML content from file\n",
    "    tei_xml_content = read_xml_from_file(path)\n",
    "\n",
    "    # Extract text from TEI XML content\n",
    "    extracted_text = extract_text_from_tei(tei_xml_content)\n",
    "    # Derive output filename from the input file's name\n",
    "    filename, _ = os.path.splitext(os.path.basename(path))\n",
    "    filename = filename.split('.')[0]\n",
    "\n",
    "    # writiing output\n",
    "    txt = './resources/grobid/out/Grobid_RR_2024_'+filename+'.txt'\n",
    "    \n",
    "    with open(txt, \"w\") as f:\n",
    "        f.write(extracted_text)"
   ]
  },
  {
   "cell_type": "code",
   "execution_count": null,
   "metadata": {},
   "outputs": [],
   "source": []
  }
 ],
 "metadata": {
  "kernelspec": {
   "display_name": "Python 3.9.6 64-bit",
   "language": "python",
   "name": "python3"
  },
  "language_info": {
   "codemirror_mode": {
    "name": "ipython",
    "version": 3
   },
   "file_extension": ".py",
   "mimetype": "text/x-python",
   "name": "python",
   "nbconvert_exporter": "python",
   "pygments_lexer": "ipython3",
   "version": "3.9.6"
  },
  "vscode": {
   "interpreter": {
    "hash": "31f2aee4e71d21fbe5cf8b01ff0e069b9275f58929596ceb00d14d90e3e16cd6"
   }
  }
 },
 "nbformat": 4,
 "nbformat_minor": 2
}
