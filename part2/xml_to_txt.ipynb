{
 "cells": [
  {
   "cell_type": "code",
   "execution_count": 2,
   "metadata": {},
   "outputs": [
    {
     "name": "stdout",
     "output_type": "stream",
     "text": [
      "Defaulting to user installation because normal site-packages is not writeable\n",
      "Collecting lxml\n",
      "  Downloading lxml-5.1.0-cp39-cp39-macosx_11_0_arm64.whl (4.5 MB)\n",
      "\u001b[K     |████████████████████████████████| 4.5 MB 3.3 MB/s eta 0:00:01\n",
      "\u001b[?25hInstalling collected packages: lxml\n",
      "Successfully installed lxml-5.1.0\n",
      "\u001b[33mWARNING: You are using pip version 21.2.4; however, version 24.0 is available.\n",
      "You should consider upgrading via the '/Library/Developer/CommandLineTools/usr/bin/python3 -m pip install --upgrade pip' command.\u001b[0m\n",
      "Note: you may need to restart the kernel to use updated packages.\n"
     ]
    }
   ],
   "source": [
    "pip install lxml"
   ]
  },
  {
   "cell_type": "code",
   "execution_count": 3,
   "metadata": {},
   "outputs": [],
   "source": [
    "from lxml import etree\n",
    "\n",
    "# Function to extract text from TEI XML content\n",
    "def extract_text_from_tei(tei_xml):\n",
    "    # Parse XML content into an ElementTree object\n",
    "    root =  etree.fromstring(tei_xml.encode('utf-8'))\n",
    "    \n",
    "    # Namespace mapping for TEI elements\n",
    "    ns = {'tei': 'http://www.tei-c.org/ns/1.0'}\n",
    "    # XPath to select relevant text elements within TEI structure\n",
    "    text_elements = root.xpath(\"//tei:div//tei:p | //tei:div//tei:head\", namespaces=ns)\n",
    "    \n",
    "    extracted_text = \"\"\n",
    "    # Iterate through selected elements and concatenate their text\n",
    "    for element in text_elements:\n",
    "        extracted_text += (element.text or \"\") + \"\\n\"\n",
    "\n",
    "    # Return concatenated text, stripping any trailing whitespace\n",
    "    return extracted_text.strip()\n"
   ]
  },
  {
   "cell_type": "code",
   "execution_count": 4,
   "metadata": {},
   "outputs": [],
   "source": [
    "# Function to read XML content from a file\n",
    "def read_xml_from_file(file_path):\n",
    "    # Open and read file content\n",
    "    with open(file_path, 'r', encoding='utf-8') as file:\n",
    "        tei_xml = file.read()\n",
    "    return tei_xml"
   ]
  },
  {
   "cell_type": "code",
   "execution_count": 5,
   "metadata": {},
   "outputs": [],
   "source": [
    "import os"
   ]
  },
  {
   "cell_type": "code",
   "execution_count": 10,
   "metadata": {},
   "outputs": [],
   "source": [
    "xml_paths = ['./resources/grobid/xml/Level1_combined.grobid.tei.xml', \n",
    "             './resources/grobid/xml/Level2_combined.grobid.tei.xml', \n",
    "             './resources/grobid/xml/Level3_combined.grobid.tei.xml']\n",
    "\n",
    "for path in xml_paths:\n",
    "    # Read TEI XML content from file\n",
    "    tei_xml_content = read_xml_from_file(path)\n",
    "\n",
    "    # Extract text from TEI XML content\n",
    "    extracted_text = extract_text_from_tei(tei_xml_content)\n",
    "    \n",
    "    # Derive output filename \n",
    "    filename, _ = os.path.splitext(os.path.basename(path))\n",
    "    filename = filename.split('.')[0]\n",
    "\n",
    "    # writing output\n",
    "    txt = './resources/grobid/out/Grobid_RR_2024_'+filename+'.txt'\n",
    "    \n",
    "    with open(txt, \"w\") as f:\n",
    "        f.write(extracted_text)"
   ]
  },
  {
   "cell_type": "code",
   "execution_count": null,
   "metadata": {},
   "outputs": [],
   "source": []
  }
 ],
 "metadata": {
  "kernelspec": {
   "display_name": "Python 3.9.6 64-bit",
   "language": "python",
   "name": "python3"
  },
  "language_info": {
   "codemirror_mode": {
    "name": "ipython",
    "version": 3
   },
   "file_extension": ".py",
   "mimetype": "text/x-python",
   "name": "python",
   "nbconvert_exporter": "python",
   "pygments_lexer": "ipython3",
   "version": "3.9.6"
  },
  "vscode": {
   "interpreter": {
    "hash": "31f2aee4e71d21fbe5cf8b01ff0e069b9275f58929596ceb00d14d90e3e16cd6"
   }
  }
 },
 "nbformat": 4,
 "nbformat_minor": 2
}
