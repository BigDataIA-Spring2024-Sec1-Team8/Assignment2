{
 "cells": [
  {
   "cell_type": "code",
   "execution_count": 1,
   "metadata": {},
   "outputs": [],
   "source": [
    "from lxml import etree\n",
    "\n",
    "def extract_text_from_tei(tei_xml):\n",
    "    root =  etree.fromstring(tei_xml.encode('utf-8'))\n",
    "\n",
    "    ns = {'tei': 'http://www.tei-c.org/ns/1.0'}\n",
    "    text_elements = root.xpath(\"//tei:div//tei:p | //tei:div//tei:head\", namespaces=ns)\n",
    "\n",
    "    extracted_text = \"\"\n",
    "    for element in text_elements:\n",
    "        extracted_text += (element.text or \"\") + \"\\n\"\n",
    "\n",
    "    return extracted_text.strip()\n",
    "\n"
   ]
  },
  {
   "cell_type": "code",
   "execution_count": 2,
   "metadata": {},
   "outputs": [],
   "source": [
    "def read_xml_from_file(file_path):\n",
    "    with open(file_path, 'r', encoding='utf-8') as file:\n",
    "        tei_xml = file.read()\n",
    "    return tei_xml\n"
   ]
  },
  {
   "cell_type": "code",
   "execution_count": 6,
   "metadata": {},
   "outputs": [],
   "source": [
    "import os"
   ]
  },
  {
   "cell_type": "code",
   "execution_count": null,
   "metadata": {},
   "outputs": [],
   "source": []
  },
  {
   "cell_type": "code",
   "execution_count": 12,
   "metadata": {},
   "outputs": [],
   "source": [
    "xml_paths = ['../resources/grobid/Level1_combined.grobid.tei.xml', '../resources/grobid/Level2_combined.grobid.tei.xml', '../resources/grobid/Level3_combined.grobid.tei.xml']\n",
    "\n",
    "for path in xml_paths:\n",
    "    tei_xml_content = read_xml_from_file(path)\n",
    "\n",
    "    extracted_text = extract_text_from_tei(tei_xml_content)\n",
    "    filename, _ = os.path.splitext(os.path.basename(path))\n",
    "    filename = filename.split('.')[0]\n",
    "\n",
    "    txt = '../resources/grobid/out/Grobid_RR_2024_'+filename+'.txt'\n",
    "    with open(txt, \"w\") as f:\n",
    "        f.write(extracted_text)\n"
   ]
  },
  {
   "cell_type": "code",
   "execution_count": null,
   "metadata": {},
   "outputs": [],
   "source": []
  }
 ],
 "metadata": {
  "kernelspec": {
   "display_name": "Python 3",
   "language": "python",
   "name": "python3"
  },
  "language_info": {
   "codemirror_mode": {
    "name": "ipython",
    "version": 3
   },
   "file_extension": ".py",
   "mimetype": "text/x-python",
   "name": "python",
   "nbconvert_exporter": "python",
   "pygments_lexer": "ipython3",
   "version": "3.11.2"
  }
 },
 "nbformat": 4,
 "nbformat_minor": 2
}
