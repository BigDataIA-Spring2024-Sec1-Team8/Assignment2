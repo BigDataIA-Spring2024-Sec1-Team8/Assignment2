{
 "cells": [
  {
   "cell_type": "code",
   "execution_count": 29,
   "metadata": {},
   "outputs": [],
   "source": [
    "import os\n",
    "from dotenv import load_dotenv\n",
    "from sqlalchemy import create_engine\n",
    "\n",
    "load_dotenv()\n",
    "import PyPDF2\n"
   ]
  },
  {
   "cell_type": "code",
   "execution_count": 30,
   "metadata": {},
   "outputs": [],
   "source": [
    "def extract_pdf_metadata(pdf_path):\n",
    "    with open(pdf_path, 'rb') as file:\n",
    "        pdf_reader = PyPDF2.PdfReader(file)\n",
    "        metadata = pdf_reader.metadata\n",
    "        print(metadata)\n",
    "    return metadata"
   ]
  },
  {
   "cell_type": "code",
   "execution_count": 31,
   "metadata": {},
   "outputs": [],
   "source": [
    "bucket_links = {\n",
    "    \"./resources/Level1_combined.pdf\" : \"s3://cfainstitute-learning-outcomes-raw/grobid/Grobid_RR_2024_Level1_combined.txt\",\n",
    "    \"./resources/Level2_combined.pdf\": \"s3://cfainstitute-learning-outcomes-raw/grobid/Grobid_RR_2024_Level2_combined.txt\",\n",
    "    \"./resources/Level3_combined.pdf\": \"s3://cfainstitute-learning-outcomes-raw/grobid/Grobid_RR_2024_Level3_combined.txt\"\n",
    "}"
   ]
  },
  {
   "cell_type": "code",
   "execution_count": 32,
   "metadata": {},
   "outputs": [
    {
     "name": "stdout",
     "output_type": "stream",
     "text": [
      "{'/CreationDate': \"D:20230130124011-05'00'\", '/Creator': 'Adobe InDesign 17.4 (Windows)', '/ModDate': \"D:20230208154528-05'00'\", '/Producer': 'Adobe PDF Library 16.0.7', '/Trapped': '/False'}\n",
      "{'/CreationDate': \"D:20230410072753-04'00'\", '/Creator': 'Adobe InDesign 17.4 (Windows)', '/ModDate': \"D:20230410115010-04'00'\", '/Producer': 'Adobe PDF Library 16.0.7', '/Trapped': '/False'}\n",
      "{'/CreationDate': \"D:20230615133905-04'00'\", '/Creator': 'Adobe InDesign 17.4 (Windows)', '/ModDate': \"D:20230615134206-04'00'\", '/Producer': 'Adobe PDF Library 16.0.7', '/Trapped': '/False'}\n"
     ]
    }
   ],
   "source": [
    "pdf_paths = ['./resources/Level1_combined.pdf', './resources/Level2_combined.pdf', './resources/Level3_combined.pdf']\n",
    "metadata = []\n",
    "for pdf_path in pdf_paths:\n",
    "    extracted_text = extract_pdf_metadata(pdf_path)\n",
    "    extracted_text = {key[1:]: value for key, value in extracted_text.items()}\n",
    "    extracted_text['s3_bucket_link'] = bucket_links[pdf_path]\n",
    "    metadata.append(extracted_text)"
   ]
  },
  {
   "cell_type": "code",
   "execution_count": 33,
   "metadata": {},
   "outputs": [],
   "source": [
    "import pandas as pd\n",
    "\n",
    "md = pd.DataFrame(metadata)"
   ]
  },
  {
   "cell_type": "code",
   "execution_count": 34,
   "metadata": {},
   "outputs": [
    {
     "data": {
      "text/html": [
       "<div>\n",
       "<style scoped>\n",
       "    .dataframe tbody tr th:only-of-type {\n",
       "        vertical-align: middle;\n",
       "    }\n",
       "\n",
       "    .dataframe tbody tr th {\n",
       "        vertical-align: top;\n",
       "    }\n",
       "\n",
       "    .dataframe thead th {\n",
       "        text-align: right;\n",
       "    }\n",
       "</style>\n",
       "<table border=\"1\" class=\"dataframe\">\n",
       "  <thead>\n",
       "    <tr style=\"text-align: right;\">\n",
       "      <th></th>\n",
       "      <th>CreationDate</th>\n",
       "      <th>Creator</th>\n",
       "      <th>ModDate</th>\n",
       "      <th>Producer</th>\n",
       "      <th>Trapped</th>\n",
       "      <th>s3_bucket_link</th>\n",
       "    </tr>\n",
       "  </thead>\n",
       "  <tbody>\n",
       "    <tr>\n",
       "      <th>0</th>\n",
       "      <td>D:20230130124011-05'00'</td>\n",
       "      <td>Adobe InDesign 17.4 (Windows)</td>\n",
       "      <td>D:20230208154528-05'00'</td>\n",
       "      <td>Adobe PDF Library 16.0.7</td>\n",
       "      <td>/False</td>\n",
       "      <td>s3://cfainstitute-learning-outcomes-raw/grobid...</td>\n",
       "    </tr>\n",
       "    <tr>\n",
       "      <th>1</th>\n",
       "      <td>D:20230410072753-04'00'</td>\n",
       "      <td>Adobe InDesign 17.4 (Windows)</td>\n",
       "      <td>D:20230410115010-04'00'</td>\n",
       "      <td>Adobe PDF Library 16.0.7</td>\n",
       "      <td>/False</td>\n",
       "      <td>s3://cfainstitute-learning-outcomes-raw/grobid...</td>\n",
       "    </tr>\n",
       "    <tr>\n",
       "      <th>2</th>\n",
       "      <td>D:20230615133905-04'00'</td>\n",
       "      <td>Adobe InDesign 17.4 (Windows)</td>\n",
       "      <td>D:20230615134206-04'00'</td>\n",
       "      <td>Adobe PDF Library 16.0.7</td>\n",
       "      <td>/False</td>\n",
       "      <td>s3://cfainstitute-learning-outcomes-raw/grobid...</td>\n",
       "    </tr>\n",
       "  </tbody>\n",
       "</table>\n",
       "</div>"
      ],
      "text/plain": [
       "              CreationDate                        Creator  \\\n",
       "0  D:20230130124011-05'00'  Adobe InDesign 17.4 (Windows)   \n",
       "1  D:20230410072753-04'00'  Adobe InDesign 17.4 (Windows)   \n",
       "2  D:20230615133905-04'00'  Adobe InDesign 17.4 (Windows)   \n",
       "\n",
       "                   ModDate                  Producer Trapped  \\\n",
       "0  D:20230208154528-05'00'  Adobe PDF Library 16.0.7  /False   \n",
       "1  D:20230410115010-04'00'  Adobe PDF Library 16.0.7  /False   \n",
       "2  D:20230615134206-04'00'  Adobe PDF Library 16.0.7  /False   \n",
       "\n",
       "                                      s3_bucket_link  \n",
       "0  s3://cfainstitute-learning-outcomes-raw/grobid...  \n",
       "1  s3://cfainstitute-learning-outcomes-raw/grobid...  \n",
       "2  s3://cfainstitute-learning-outcomes-raw/grobid...  "
      ]
     },
     "execution_count": 34,
     "metadata": {},
     "output_type": "execute_result"
    }
   ],
   "source": [
    "md.head()"
   ]
  },
  {
   "cell_type": "code",
   "execution_count": null,
   "metadata": {},
   "outputs": [],
   "source": []
  },
  {
   "cell_type": "markdown",
   "metadata": {},
   "source": [
    "# Upload to snowflake"
   ]
  },
  {
   "cell_type": "code",
   "execution_count": 35,
   "metadata": {},
   "outputs": [],
   "source": [
    "snowflake_account = os.getenv('snowflake_account')\n",
    "snowflake_user = os.getenv('snowflake_user')\n",
    "snowflake_password = os.getenv('snowflake_password')\n",
    "snowflake_warehouse = os.getenv('snowflake_warehouse')\n",
    "snowflake_schema = os.getenv('snowflake_schema')\n",
    "\n",
    "engine = create_engine(\n",
    "    'snowflake://{user}:{password}@{account_identifier}/'.format(\n",
    "        user=snowflake_user,\n",
    "        password=snowflake_password,\n",
    "        account_identifier=snowflake_account,\n",
    "    )\n",
    ")\n",
    "connection = engine.connect()\n"
   ]
  },
  {
   "cell_type": "markdown",
   "metadata": {},
   "source": [
    "### Create table and db"
   ]
  },
  {
   "cell_type": "code",
   "execution_count": 36,
   "metadata": {},
   "outputs": [
    {
     "data": {
      "text/plain": [
       "<sqlalchemy.engine.cursor.LegacyCursorResult at 0x16983cb50>"
      ]
     },
     "execution_count": 36,
     "metadata": {},
     "output_type": "execute_result"
    }
   ],
   "source": [
    "target_table = 'metadata_pypdf'\n",
    "\n",
    "target_database = 'MetadataDB'\n",
    "\n",
    "\n",
    "create_database_query = f\"CREATE DATABASE IF NOT EXISTS {target_database}\"\n",
    "\n",
    "connection.execute(create_database_query)\n",
    "use_database_query = f\"USE DATABASE {target_database}\"\n",
    "connection.execute(use_database_query)\n",
    "connection.execute(\"USE WAREHOUSE TEST\")\n"
   ]
  },
  {
   "cell_type": "code",
   "execution_count": 37,
   "metadata": {},
   "outputs": [
    {
     "data": {
      "text/plain": [
       "<sqlalchemy.engine.cursor.LegacyCursorResult at 0x169609310>"
      ]
     },
     "execution_count": 37,
     "metadata": {},
     "output_type": "execute_result"
    }
   ],
   "source": [
    "headers = md.columns.tolist()\n",
    "columns_definition = ', '.join([f\"{header} STRING\" for header in headers])\n",
    "connection.execute(f\"\"\"\n",
    "    CREATE TABLE IF NOT EXISTS {target_table} (\n",
    "        {columns_definition}\n",
    "    )\n",
    "    \"\"\")"
   ]
  },
  {
   "cell_type": "code",
   "execution_count": 38,
   "metadata": {},
   "outputs": [],
   "source": [
    "md.to_csv('./resources/metadata/metadata_pypdf.csv', index=False)"
   ]
  },
  {
   "cell_type": "code",
   "execution_count": 39,
   "metadata": {},
   "outputs": [
    {
     "data": {
      "text/plain": [
       "<sqlalchemy.engine.cursor.LegacyCursorResult at 0x16934e490>"
      ]
     },
     "execution_count": 39,
     "metadata": {},
     "output_type": "execute_result"
    }
   ],
   "source": [
    "connection.execute(f\"TRUNCATE TABLE {target_table}\")\n",
    "\n",
    "connection.execute(f\"PUT file://resources/metadata/metadata_pypdf.csv @%{target_table}\")\n"
   ]
  },
  {
   "cell_type": "code",
   "execution_count": 40,
   "metadata": {},
   "outputs": [
    {
     "data": {
      "text/plain": [
       "<sqlalchemy.engine.cursor.LegacyCursorResult at 0x1693d4810>"
      ]
     },
     "execution_count": 40,
     "metadata": {},
     "output_type": "execute_result"
    }
   ],
   "source": [
    "connection.execute(f\"COPY INTO {target_table} ON_ERROR=CONTINUE FILE_FORMAT = (FIELD_OPTIONALLY_ENCLOSED_BY = '\\\"' SKIP_HEADER=1 PARSE_HEADER = FALSE)\")"
   ]
  }
 ],
 "metadata": {
  "kernelspec": {
   "display_name": "Python 3",
   "language": "python",
   "name": "python3"
  },
  "language_info": {
   "codemirror_mode": {
    "name": "ipython",
    "version": 3
   },
   "file_extension": ".py",
   "mimetype": "text/x-python",
   "name": "python",
   "nbconvert_exporter": "python",
   "pygments_lexer": "ipython3",
   "version": "3.11.2"
  }
 },
 "nbformat": 4,
 "nbformat_minor": 2
}
