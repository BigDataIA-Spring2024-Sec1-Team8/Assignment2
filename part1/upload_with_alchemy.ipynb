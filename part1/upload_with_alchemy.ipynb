{
 "cells": [
  {
   "cell_type": "markdown",
   "metadata": {},
   "source": [
    "# Load Libraries\n"
   ]
  },
  {
   "cell_type": "code",
   "execution_count": 7,
   "metadata": {},
   "outputs": [
    {
     "data": {
      "text/plain": [
       "True"
      ]
     },
     "execution_count": 7,
     "metadata": {},
     "output_type": "execute_result"
    }
   ],
   "source": [
    "from sqlalchemy import create_engine\n",
    "import os\n",
    "from dotenv import load_dotenv\n",
    "# Load environment variables from the .env file\n",
    "load_dotenv()"
   ]
  },
  {
   "cell_type": "markdown",
   "metadata": {},
   "source": [
    "# Create snowflake connection with sqlalchemy"
   ]
  },
  {
   "cell_type": "code",
   "execution_count": 8,
   "metadata": {},
   "outputs": [],
   "source": [
    "snowflake_account = os.getenv('snowflake_account')\n",
    "snowflake_user = os.getenv('snowflake_user')\n",
    "snowflake_password = os.getenv('snowflake_password')\n",
    "snowflake_warehouse = os.getenv('snowflake_warehouse')\n",
    "snowflake_schema = os.getenv('snowflake_schema')\n",
    "\n",
    "engine = create_engine(\n",
    "    'snowflake://{user}:{password}@{account_identifier}/'.format(\n",
    "        user=snowflake_user,\n",
    "        password=snowflake_password,\n",
    "        account_identifier=snowflake_account,\n",
    "    )\n",
    ")\n",
    "connection = engine.connect()\n"
   ]
  },
  {
   "cell_type": "markdown",
   "metadata": {},
   "source": [
    "# Create Database and use it"
   ]
  },
  {
   "cell_type": "code",
   "execution_count": 9,
   "metadata": {},
   "outputs": [
    {
     "data": {
      "text/plain": [
       "<sqlalchemy.engine.cursor.LegacyCursorResult at 0x11a3f4ed0>"
      ]
     },
     "execution_count": 9,
     "metadata": {},
     "output_type": "execute_result"
    }
   ],
   "source": [
    "target_table = 'TopicDetails'\n",
    "\n",
    "target_database = 'CFAInstitute'\n",
    "\n",
    "create_database_query = f\"CREATE DATABASE IF NOT EXISTS {target_database}\"\n",
    "\n",
    "connection.execute(create_database_query)\n",
    "use_database_query = f\"USE DATABASE {target_database}\"\n",
    "connection.execute(use_database_query)\n",
    "connection.execute(\"USE WAREHOUSE TEST\")\n"
   ]
  },
  {
   "cell_type": "markdown",
   "metadata": {},
   "source": [
    "# Create Table"
   ]
  },
  {
   "cell_type": "code",
   "execution_count": 10,
   "metadata": {},
   "outputs": [
    {
     "data": {
      "text/plain": [
       "<sqlalchemy.engine.cursor.LegacyCursorResult at 0x11a3f5090>"
      ]
     },
     "execution_count": 10,
     "metadata": {},
     "output_type": "execute_result"
    }
   ],
   "source": [
    "create_table_query = f\"\"\"\n",
    "CREATE TABLE IF NOT EXISTS {target_table} (\n",
    "    Title VARCHAR,\n",
    "    Curriculum VARCHAR,\n",
    "    Level VARCHAR,\n",
    "    Topics VARCHAR,\n",
    "    \"Learning Outcomes Section\" VARCHAR,\n",
    "    Introduction VARCHAR,\n",
    "    \"Summary Bullets\" VARIANT,\n",
    "    pdf_link VARCHAR\n",
    ")\n",
    "\"\"\"\n",
    "\n",
    "connection.execute(create_table_query)\n"
   ]
  },
  {
   "cell_type": "markdown",
   "metadata": {},
   "source": [
    "# stage file"
   ]
  },
  {
   "cell_type": "code",
   "execution_count": 11,
   "metadata": {},
   "outputs": [
    {
     "data": {
      "text/plain": [
       "<sqlalchemy.engine.cursor.LegacyCursorResult at 0x11a202310>"
      ]
     },
     "execution_count": 11,
     "metadata": {},
     "output_type": "execute_result"
    }
   ],
   "source": [
    "connection.execute(f\"TRUNCATE TABLE {target_table}\")\n",
    "\n",
    "connection.execute(f\"PUT file://resources/processed_content.csv @%{target_table}\")\n"
   ]
  },
  {
   "cell_type": "markdown",
   "metadata": {},
   "source": [
    "# Load data from stage"
   ]
  },
  {
   "cell_type": "code",
   "execution_count": 12,
   "metadata": {},
   "outputs": [
    {
     "data": {
      "text/plain": [
       "<sqlalchemy.engine.cursor.LegacyCursorResult at 0x11a3b6510>"
      ]
     },
     "execution_count": 12,
     "metadata": {},
     "output_type": "execute_result"
    }
   ],
   "source": [
    "connection.execute(f\"COPY INTO {target_table} ON_ERROR=CONTINUE FILE_FORMAT = (FIELD_OPTIONALLY_ENCLOSED_BY = '\\\"' SKIP_HEADER=1 PARSE_HEADER = FALSE)\")"
   ]
  }
 ],
 "metadata": {
  "kernelspec": {
   "display_name": "Python 3",
   "language": "python",
   "name": "python3"
  },
  "language_info": {
   "codemirror_mode": {
    "name": "ipython",
    "version": 3
   },
   "file_extension": ".py",
   "mimetype": "text/x-python",
   "name": "python",
   "nbconvert_exporter": "python",
   "pygments_lexer": "ipython3",
   "version": "3.11.2"
  }
 },
 "nbformat": 4,
 "nbformat_minor": 2
}
